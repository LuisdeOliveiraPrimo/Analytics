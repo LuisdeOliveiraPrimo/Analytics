{
 "cells": [
  {
   "cell_type": "code",
   "execution_count": 101,
   "id": "cca5e912",
   "metadata": {},
   "outputs": [],
   "source": [
    "import pandas as pd\n",
    "import numpy as np  "
   ]
  },
  {
   "cell_type": "code",
   "execution_count": null,
   "id": "c6bc7ebb",
   "metadata": {},
   "outputs": [],
   "source": [
    "df = pd.read_csv('ai_job_dataset.csv')\n",
    "df"
   ]
  },
  {
   "cell_type": "code",
   "execution_count": null,
   "id": "68e9c66c",
   "metadata": {},
   "outputs": [],
   "source": [
    "# Agrupar por empresa e calcular a média salarial e quantidade de funcionários\n",
    "group_company_salary = df.groupby('company_name').agg(\n",
    "    average_salary=('salary_usd', 'mean'),\n",
    "    num_employees=('salary_usd', 'count')\n",
    ").reset_index()\n",
    "\n",
    "# Ordenar do maior para o menor salário médio\n",
    "group_company_salary = group_company_salary.sort_values(by='average_salary', ascending=False)\n",
    "\n",
    "# Formatar salário com duas casas decimais e separador de milhar\n",
    "group_company_salary['average_salary'] = group_company_salary['average_salary'].map('{:,.2f}'.format)\n",
    "\n",
    "print(group_company_salary)\n"
   ]
  },
  {
   "cell_type": "code",
   "execution_count": null,
   "id": "391f6953",
   "metadata": {},
   "outputs": [],
   "source": [
    "# Contar valores únicos na coluna 'company_name' (exemplo de nome)., número de empresas \n",
    "qtd_industrias = df['company_name'].nunique()\n",
    "print(qtd_industrias)\n",
    "\n",
    "# Contar valores únicos na coluna 'industry' (exemplo de nome), número de setores\n",
    "qtd_setores = df['industry'].unique()\n",
    "print(len(qtd_setores))"
   ]
  },
  {
   "cell_type": "code",
   "execution_count": null,
   "id": "cfcb7b89",
   "metadata": {},
   "outputs": [],
   "source": [
    "experience_level_en = df.query('experience_level == \"EN\"')\n",
    "experience_level_mi = df.query('experience_level == \"MI\"')\n",
    "experience_level_se = df.query('experience_level == \"SE\"')\n",
    "experience_level_ex = df.query('experience_level == \"EX\"')\n",
    "\n",
    "count_experience_level_en = len(experience_level_en)\n",
    "count_experience_level_mi = len(experience_level_mi)\n",
    "count_experience_level_se = len(experience_level_se)\n",
    "count_experience_level_ex = len(experience_level_ex)\n",
    "\n",
    "print(count_experience_level_en)\n",
    "print(count_experience_level_mi)\n",
    "print(count_experience_level_se)\n",
    "print(count_experience_level_ex)\n",
    "\n",
    "print(count_experience_level_en + count_experience_level_mi + count_experience_level_se + count_experience_level_ex)"
   ]
  },
  {
   "cell_type": "code",
   "execution_count": null,
   "id": "0fe93650",
   "metadata": {},
   "outputs": [],
   "source": [
    "# Contagem de cada nível de experiência\n",
    "contagem_experiencia = df['experience_level'].value_counts()\n",
    "print(contagem_experiencia)\n"
   ]
  },
  {
   "cell_type": "code",
   "execution_count": null,
   "id": "39a1ba68",
   "metadata": {},
   "outputs": [],
   "source": [
    "# Agrupando por cargo e calculando a média salarial\n",
    "media_salarial = df.groupby('job_title')['salary_usd'].mean().reset_index()\n",
    "\n",
    "# Ordenando do menor para o maior salário\n",
    "media_salarial = media_salarial.sort_values(by='salary_usd', ascending=False)\n",
    "\n",
    "# Imprimindo os resultados\n",
    "for index, row in media_salarial.iterrows():\n",
    "    print(f'{row[\"job_title\"]}: ${row[\"salary_usd\"]:.2f}')"
   ]
  },
  {
   "cell_type": "code",
   "execution_count": null,
   "id": "3612eb5b",
   "metadata": {},
   "outputs": [],
   "source": [
    "# Filtrando funcionários que trabalham 100% remoto\n",
    "employees_work_another_country = df.query('remote_ratio == 100')\n",
    "\n",
    "# Contando quantos trabalham 100% remoto\n",
    "total_remote = len(employees_work_another_country)\n",
    "\n",
    "# Total geral de funcionários\n",
    "total_employees = len(df)\n",
    "\n",
    "# Calculando a porcentagem que trabalha remoto\n",
    "mean_work_remote = (total_remote / total_employees) * 100\n",
    "\n",
    "print(f'{mean_work_remote:.2f}% of employees work 100% remotely.')"
   ]
  },
  {
   "cell_type": "code",
   "execution_count": null,
   "id": "928322ce",
   "metadata": {},
   "outputs": [],
   "source": [
    "# Filtrando funcionários que trabalham parte do tempo remoto\n",
    "part_time = df.query('remote_ratio == 50')\n",
    "\n",
    "# Contando quantos são\n",
    "total_part_time = len(part_time)\n",
    "\n",
    "# Contando os outros\n",
    "total_employees = len(df)\n",
    "\n",
    "# Calculando a % de trabalhadores meio perioso\n",
    "mean_work_part_time = (total_part_time / total_employees) * 100\n",
    "\n",
    "print(f'{mean_work_part_time:.2f}% of employees work part of time remote.')"
   ]
  },
  {
   "cell_type": "code",
   "execution_count": null,
   "id": "8070bb3c",
   "metadata": {},
   "outputs": [],
   "source": [
    "# Filtrando funcionários que trabalham parte do tempo remoto e 100% remoto \n",
    "part_time = df.query('remote_ratio == 50')\n",
    "employees_work_another_country = df.query('remote_ratio == 100')\n",
    "\n",
    "# contando o número de funcionarios\n",
    "count_par_time = len(part_time)\n",
    "count_employees_work_another_country = len(employees_work_another_country)\n",
    "sum_of_all = count_par_time + count_employees_work_another_country\n",
    "\n",
    "# Todos os funcionarios\n",
    "all_employees = len(df)\n",
    "\n",
    "# Porcentagem de funcionarios presencial \n",
    "face_to_face_team = (all_employees - sum_of_all)\n",
    "percentage = (face_to_face_team / all_employees ) * 100\n",
    "\n",
    "print(f'{percentage:.2f}% of employees work full time in the industry.')"
   ]
  },
  {
   "cell_type": "code",
   "execution_count": null,
   "id": "00c5fc52",
   "metadata": {},
   "outputs": [],
   "source": [
    "num_vacancies = df['job_title'].unique()\n",
    "print(f'number of services {len(num_vacancies)}')\n",
    "print(df['job_title'].unique())\n"
   ]
  }
 ],
 "metadata": {
  "kernelspec": {
   "display_name": "Python 3",
   "language": "python",
   "name": "python3"
  },
  "language_info": {
   "codemirror_mode": {
    "name": "ipython",
    "version": 3
   },
   "file_extension": ".py",
   "mimetype": "text/x-python",
   "name": "python",
   "nbconvert_exporter": "python",
   "pygments_lexer": "ipython3",
   "version": "3.13.2"
  }
 },
 "nbformat": 4,
 "nbformat_minor": 5
}
